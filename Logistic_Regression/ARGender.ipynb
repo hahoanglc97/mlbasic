{
 "cells": [
  {
   "cell_type": "code",
   "execution_count": 9,
   "metadata": {},
   "outputs": [],
   "source": [
    "import numpy as np \n",
    "from sklearn import linear_model           # for logistic regression\n",
    "from sklearn.metrics import accuracy_score # for evaluation\n",
    "from scipy import misc                     # for loading image\n",
    "import matplotlib.image as mpimg\n",
    "np.random.seed(1)                          # for fixing random values"
   ]
  },
  {
   "cell_type": "code",
   "execution_count": 2,
   "metadata": {},
   "outputs": [],
   "source": [
    "path = '../Dataset/AR/' # path to the database \n",
    "train_ids = np.arange(1, 26)\n",
    "test_ids = np.arange(26, 50)\n",
    "view_ids = np.hstack((np.arange(1, 8), np.arange(14, 21)))"
   ]
  },
  {
   "cell_type": "markdown",
   "metadata": {},
   "source": [
    "- Tạo random projection matrix.\n",
    "\n"
   ]
  },
  {
   "cell_type": "code",
   "execution_count": 3,
   "metadata": {},
   "outputs": [],
   "source": [
    "D = 165*120 # original dimension \n",
    "d = 500 # new dimension \n",
    "\n",
    "# generate the projection matrix \n",
    "ProjectionMatrix = np.random.randn(D, d) "
   ]
  },
  {
   "cell_type": "markdown",
   "metadata": {},
   "source": [
    "- Xây dựng danh sách các tên files.\n",
    "\n"
   ]
  },
  {
   "cell_type": "code",
   "execution_count": 13,
   "metadata": {},
   "outputs": [],
   "source": [
    "def build_list_fn(pre, img_ids, view_ids):\n",
    "    \"\"\"\n",
    "    INPUT:\n",
    "        pre = 'M-' or 'W-'\n",
    "        img_ids: indexes of images\n",
    "        view_ids: indexes of views\n",
    "    OUTPUT:\n",
    "        a list of filenames \n",
    "    \"\"\"\n",
    "    list_fn = []\n",
    "    for im_id in img_ids:\n",
    "        for v_id in view_ids:\n",
    "            fn = path + pre + str(im_id).zfill(3) + '-' + \\\n",
    "                str(v_id).zfill(2)\n",
    "            list_fn.append(fn)\n",
    "    return list_fn "
   ]
  },
  {
   "cell_type": "markdown",
   "metadata": {},
   "source": [
    "- Feature Extraction: Xây dựng dữ liệu cho training set và test set.\n"
   ]
  },
  {
   "cell_type": "code",
   "execution_count": 15,
   "metadata": {},
   "outputs": [
    {
     "ename": "FileNotFoundError",
     "evalue": "[Errno 2] No such file or directory: '../Dataset/AR/M-001-01'",
     "output_type": "error",
     "traceback": [
      "\u001b[0;31m---------------------------------------------------------------------------\u001b[0m",
      "\u001b[0;31mFileNotFoundError\u001b[0m                         Traceback (most recent call last)",
      "Cell \u001b[0;32mIn [15], line 31\u001b[0m\n\u001b[1;32m     28\u001b[0m     X \u001b[38;5;241m=\u001b[39m np\u001b[38;5;241m.\u001b[39mdot(X_full, ProjectionMatrix)\n\u001b[1;32m     29\u001b[0m     \u001b[38;5;28;01mreturn\u001b[39;00m (X, y)\n\u001b[0;32m---> 31\u001b[0m (X_train_full, y_train) \u001b[38;5;241m=\u001b[39m build_data_matrix(train_ids, view_ids)\n\u001b[1;32m     32\u001b[0m x_mean \u001b[38;5;241m=\u001b[39m X_train_full\u001b[38;5;241m.\u001b[39mmean(axis \u001b[38;5;241m=\u001b[39m \u001b[38;5;241m0\u001b[39m)\n\u001b[1;32m     33\u001b[0m x_var  \u001b[38;5;241m=\u001b[39m X_train_full\u001b[38;5;241m.\u001b[39mvar(axis \u001b[38;5;241m=\u001b[39m \u001b[38;5;241m0\u001b[39m)\n",
      "Cell \u001b[0;32mIn [15], line 26\u001b[0m, in \u001b[0;36mbuild_data_matrix\u001b[0;34m(img_ids, view_ids)\u001b[0m\n\u001b[1;32m     23\u001b[0m list_fn \u001b[38;5;241m=\u001b[39m list_fn_m \u001b[38;5;241m+\u001b[39m list_fn_w \n\u001b[1;32m     25\u001b[0m \u001b[38;5;28;01mfor\u001b[39;00m i \u001b[38;5;129;01min\u001b[39;00m \u001b[38;5;28mrange\u001b[39m(\u001b[38;5;28mlen\u001b[39m(list_fn)):\n\u001b[0;32m---> 26\u001b[0m     X_full[i, :] \u001b[38;5;241m=\u001b[39m \u001b[43mvectorize_img\u001b[49m\u001b[43m(\u001b[49m\u001b[43mlist_fn\u001b[49m\u001b[43m[\u001b[49m\u001b[43mi\u001b[49m\u001b[43m]\u001b[49m\u001b[43m)\u001b[49m\n\u001b[1;32m     28\u001b[0m X \u001b[38;5;241m=\u001b[39m np\u001b[38;5;241m.\u001b[39mdot(X_full, ProjectionMatrix)\n\u001b[1;32m     29\u001b[0m \u001b[38;5;28;01mreturn\u001b[39;00m (X, y)\n",
      "Cell \u001b[0;32mIn [15], line 8\u001b[0m, in \u001b[0;36mvectorize_img\u001b[0;34m(filename)\u001b[0m\n\u001b[1;32m      6\u001b[0m \u001b[38;5;28;01mdef\u001b[39;00m \u001b[38;5;21mvectorize_img\u001b[39m(filename):    \n\u001b[1;32m      7\u001b[0m     \u001b[38;5;66;03m# load image \u001b[39;00m\n\u001b[0;32m----> 8\u001b[0m     rgb \u001b[38;5;241m=\u001b[39m \u001b[43mmpimg\u001b[49m\u001b[38;5;241;43m.\u001b[39;49m\u001b[43mimread\u001b[49m\u001b[43m(\u001b[49m\u001b[43mfilename\u001b[49m\u001b[43m)\u001b[49m\n\u001b[1;32m      9\u001b[0m     \u001b[38;5;66;03m# convert to gray scale \u001b[39;00m\n\u001b[1;32m     10\u001b[0m     gray \u001b[38;5;241m=\u001b[39m rgb2gray(rgb)\n",
      "File \u001b[0;32m/opt/anaconda3/envs/mlbasic/lib/python3.8/site-packages/matplotlib/image.py:1541\u001b[0m, in \u001b[0;36mimread\u001b[0;34m(fname, format)\u001b[0m\n\u001b[1;32m   1534\u001b[0m \u001b[39mif\u001b[39;00m \u001b[39misinstance\u001b[39m(fname, \u001b[39mstr\u001b[39m) \u001b[39mand\u001b[39;00m \u001b[39mlen\u001b[39m(parse\u001b[39m.\u001b[39murlparse(fname)\u001b[39m.\u001b[39mscheme) \u001b[39m>\u001b[39m \u001b[39m1\u001b[39m:\n\u001b[1;32m   1535\u001b[0m     \u001b[39m# Pillow doesn't handle URLs directly.\u001b[39;00m\n\u001b[1;32m   1536\u001b[0m     \u001b[39mraise\u001b[39;00m \u001b[39mValueError\u001b[39;00m(\n\u001b[1;32m   1537\u001b[0m         \u001b[39m\"\u001b[39m\u001b[39mPlease open the URL for reading and pass the \u001b[39m\u001b[39m\"\u001b[39m\n\u001b[1;32m   1538\u001b[0m         \u001b[39m\"\u001b[39m\u001b[39mresult to Pillow, e.g. with \u001b[39m\u001b[39m\"\u001b[39m\n\u001b[1;32m   1539\u001b[0m         \u001b[39m\"\u001b[39m\u001b[39m``np.array(PIL.Image.open(urllib.request.urlopen(url)))``.\u001b[39m\u001b[39m\"\u001b[39m\n\u001b[1;32m   1540\u001b[0m         )\n\u001b[0;32m-> 1541\u001b[0m \u001b[39mwith\u001b[39;00m img_open(fname) \u001b[39mas\u001b[39;00m image:\n\u001b[1;32m   1542\u001b[0m     \u001b[39mreturn\u001b[39;00m (_pil_png_to_float_array(image)\n\u001b[1;32m   1543\u001b[0m             \u001b[39mif\u001b[39;00m \u001b[39misinstance\u001b[39m(image, PIL\u001b[39m.\u001b[39mPngImagePlugin\u001b[39m.\u001b[39mPngImageFile) \u001b[39melse\u001b[39;00m\n\u001b[1;32m   1544\u001b[0m             pil_to_array(image))\n",
      "File \u001b[0;32m/opt/anaconda3/envs/mlbasic/lib/python3.8/site-packages/PIL/Image.py:2953\u001b[0m, in \u001b[0;36mopen\u001b[0;34m(fp, mode, formats)\u001b[0m\n\u001b[1;32m   2950\u001b[0m     filename \u001b[39m=\u001b[39m fp\n\u001b[1;32m   2952\u001b[0m \u001b[39mif\u001b[39;00m filename:\n\u001b[0;32m-> 2953\u001b[0m     fp \u001b[39m=\u001b[39m builtins\u001b[39m.\u001b[39;49mopen(filename, \u001b[39m\"\u001b[39;49m\u001b[39mrb\u001b[39;49m\u001b[39m\"\u001b[39;49m)\n\u001b[1;32m   2954\u001b[0m     exclusive_fp \u001b[39m=\u001b[39m \u001b[39mTrue\u001b[39;00m\n\u001b[1;32m   2956\u001b[0m \u001b[39mtry\u001b[39;00m:\n",
      "\u001b[0;31mFileNotFoundError\u001b[0m: [Errno 2] No such file or directory: '../Dataset/AR/M-001-01'"
     ]
    }
   ],
   "source": [
    "def rgb2gray(rgb):\n",
    "#     Y' = 0.299 R + 0.587 G + 0.114 B \n",
    "    return rgb[:,:,0]*.299 + rgb[:, :, 1]*.587 + rgb[:, :, 2]*.114\n",
    "\n",
    "# feature extraction \n",
    "def vectorize_img(filename):    \n",
    "    # load image \n",
    "    rgb = mpimg.imread(filename)\n",
    "    # convert to gray scale \n",
    "    gray = rgb2gray(rgb)\n",
    "    # vectorization each row is a data point \n",
    "    im_vec = gray.reshape(1, D)\n",
    "    return im_vec \n",
    "\n",
    "def build_data_matrix(img_ids, view_ids):\n",
    "    total_imgs = img_ids.shape[0]*view_ids.shape[0]*2 \n",
    "        \n",
    "    X_full = np.zeros((total_imgs, D))\n",
    "    y = np.hstack((np.zeros((int(total_imgs/2), )), np.ones((int(total_imgs/2), ))))\n",
    "    \n",
    "    list_fn_m = build_list_fn('M-', img_ids, view_ids)\n",
    "    list_fn_w = build_list_fn('W-', img_ids, view_ids)\n",
    "    list_fn = list_fn_m + list_fn_w \n",
    "    \n",
    "    for i in range(len(list_fn)):\n",
    "        X_full[i, :] = vectorize_img(list_fn[i])\n",
    "\n",
    "    X = np.dot(X_full, ProjectionMatrix)\n",
    "    return (X, y)\n",
    "\n",
    "(X_train_full, y_train) = build_data_matrix(train_ids, view_ids)\n",
    "x_mean = X_train_full.mean(axis = 0)\n",
    "x_var  = X_train_full.var(axis = 0)\n",
    "\n",
    "def feature_extraction(X):\n",
    "    return (X - x_mean)/x_var     \n",
    "\n",
    "X_train = feature_extraction(X_train_full)\n",
    "X_train_full = None ## free this variable \n",
    "\n",
    "(X_test_full, y_test) = build_data_matrix(test_ids, view_ids)\n",
    "X_test = feature_extraction(X_test_full)\n",
    "X_test_full = None "
   ]
  },
  {
   "cell_type": "code",
   "execution_count": null,
   "metadata": {},
   "outputs": [],
   "source": [
    "logreg = linear_model.LogisticRegression(C=1e5) # just a big number \n",
    "logreg.fit(X_train, y_train)\n",
    "\n",
    "y_pred = logreg.predict(X_test)\n",
    "print (\"Accuracy: %.2f %%\" %(100*accuracy_score(y_test, y_pred)))"
   ]
  },
  {
   "cell_type": "code",
   "execution_count": null,
   "metadata": {},
   "outputs": [],
   "source": [
    "def feature_extraction_fn(fn):\n",
    "    \"\"\"\n",
    "    extract feature from filename\n",
    "    \"\"\"\n",
    "    # vectorize\n",
    "    im = vectorize_img(fn)\n",
    "    # project\n",
    "    im1 = np.dot(im, ProjectionMatrix)\n",
    "    # standardization \n",
    "    return feature_extraction(im1)\n",
    "\n",
    "fn1 = path + 'M-036-18.bmp'\n",
    "fn2 = path + 'W-045-01.bmp'\n",
    "fn3 = path + 'M-048-01.bmp'\n",
    "fn4 = path + 'W-027-02.bmp'\n",
    "\n",
    "x1 = feature_extraction_fn(fn1)\n",
    "p1 = logreg.predict_proba(x1)\n",
    "print(p1)\n",
    "\n",
    "x2 = feature_extraction_fn(fn2)\n",
    "p2 = logreg.predict_proba(x2)\n",
    "print(p2)\n",
    "\n",
    "x3 = feature_extraction_fn(fn3)\n",
    "p3 = logreg.predict_proba(x3)\n",
    "print(p3)\n",
    "\n",
    "x4 = feature_extraction_fn(fn4)\n",
    "p4 = logreg.predict_proba(x4)\n",
    "print(p4)"
   ]
  }
 ],
 "metadata": {
  "kernelspec": {
   "display_name": "Python 3.8.13 ('mlbasic')",
   "language": "python",
   "name": "python3"
  },
  "language_info": {
   "codemirror_mode": {
    "name": "ipython",
    "version": 3
   },
   "file_extension": ".py",
   "mimetype": "text/x-python",
   "name": "python",
   "nbconvert_exporter": "python",
   "pygments_lexer": "ipython3",
   "version": "3.8.13"
  },
  "orig_nbformat": 4,
  "vscode": {
   "interpreter": {
    "hash": "fed7d9ff6703dc919635f1845f68b3b5dbc4445811ecdd1c4a32874e12ead1d5"
   }
  }
 },
 "nbformat": 4,
 "nbformat_minor": 2
}
