{
 "cells": [
  {
   "cell_type": "code",
   "execution_count": 1,
   "metadata": {},
   "outputs": [
    {
     "name": "stdout",
     "output_type": "stream",
     "text": [
      "Solution\"\n",
      "[ 6.00e+00]\n",
      "[ 4.00e+00]\n",
      "\n"
     ]
    }
   ],
   "source": [
    "from cvxopt import matrix, solvers\n",
    "c = matrix([-5., -3.])\n",
    "G = matrix([[1., 2., 1., -1., 0.], [1., 1., 4., 0., -1.]])\n",
    "h = matrix([10., 16., 32., 0., 0.])\n",
    "\n",
    "solvers.options['show_progress'] = False\n",
    "sol = solvers.lp(c, G, h)\n",
    "\n",
    "print('Solution\"')\n",
    "print(sol['x'])"
   ]
  },
  {
   "cell_type": "markdown",
   "metadata": {},
   "source": [
    "- bai toan nha xua ban"
   ]
  },
  {
   "cell_type": "code",
   "execution_count": 16,
   "metadata": {},
   "outputs": [
    {
     "name": "stdout",
     "output_type": "stream",
     "text": [
      "Solution\"\n",
      "[ 6.00e+02]\n",
      "[ 8.99e-05]\n",
      "[ 8.31e-06]\n",
      "[ 4.00e+02]\n",
      "\n"
     ]
    }
   ],
   "source": [
    "c = matrix([5., 10., 15., 4.])\n",
    "G = matrix([\n",
    "    [1., 0., -1., 0., 0., 0.],\n",
    "    [1., 0., 0., -1., 0., 0.],\n",
    "    [0., 1., 0., 0., -1., 0.],\n",
    "    [0., 1., 0., 0., 0., -1.],\n",
    "])\n",
    "h = matrix([800., 700., 0., 0., 0., 0.])\n",
    "A = matrix([\n",
    "    [1., 0.],\n",
    "    [0., 1.],\n",
    "    [1., 0.],\n",
    "    [0., 1.], \n",
    "])\n",
    "b = matrix([600., 400])\n",
    "\n",
    "solvers.options['show_progress'] = False\n",
    "sol = solvers.lp(c, G, h, A, b)\n",
    "\n",
    "print('Solution\"')\n",
    "print(sol['x'])"
   ]
  },
  {
   "cell_type": "markdown",
   "metadata": {},
   "source": [
    "-  giải QP bằng CVXOPT"
   ]
  },
  {
   "cell_type": "code",
   "execution_count": 17,
   "metadata": {},
   "outputs": [
    {
     "name": "stdout",
     "output_type": "stream",
     "text": [
      "Solution:\n",
      "[ 5.00e+00]\n",
      "[ 5.00e+00]\n",
      "\n"
     ]
    }
   ],
   "source": [
    "from cvxopt import matrix, solvers\n",
    "P = matrix([[1., 0.], [0., 1.]])\n",
    "q = matrix([-10., -10.])\n",
    "G = matrix([[1., 2., 1., -1., 0.], [1., 1., 4., 0., -1.]])\n",
    "h = matrix([10., 16., 32., 0., 0])\n",
    "\n",
    "solvers.options['show_progress'] = False\n",
    "sol = solvers.qp(P, q, G, h)\n",
    "\n",
    "print('Solution:')\n",
    "print(sol['x'])"
   ]
  },
  {
   "cell_type": "markdown",
   "metadata": {},
   "source": [
    "- bai toan dong thung"
   ]
  },
  {
   "cell_type": "code",
   "execution_count": 18,
   "metadata": {},
   "outputs": [
    {
     "name": "stdout",
     "output_type": "stream",
     "text": [
      "Solution:\n",
      "[[1.58489319]\n",
      " [1.58489319]\n",
      " [1.58489319]]\n",
      "\n",
      "checking sol^5\n",
      "[[9.9999998]\n",
      " [9.9999998]\n",
      " [9.9999998]]\n"
     ]
    }
   ],
   "source": [
    "from cvxopt import matrix, solvers\n",
    "from math import log, exp# gp\n",
    "from numpy import array\n",
    "import numpy as np\n",
    "\n",
    "K = [4]\n",
    "F = matrix([[-1., 1., 1., 0.],\n",
    "            [-1., 1., 0., 1.],\n",
    "            [-1., 0., 1., 1.]])\n",
    "g = matrix([log(40.), log(2.), log(2.), log(2.)])\n",
    "solvers.options['show_progress'] = False\n",
    "sol = solvers.gp(K, F, g)\n",
    "\n",
    "print('Solution:')\n",
    "print(np.exp(np.array(sol['x'])))\n",
    "\n",
    "print('\\nchecking sol^5')\n",
    "print(np.exp(np.array(sol['x']))**5)"
   ]
  }
 ],
 "metadata": {
  "kernelspec": {
   "display_name": "Python 3.8.13 ('mlbasic')",
   "language": "python",
   "name": "python3"
  },
  "language_info": {
   "codemirror_mode": {
    "name": "ipython",
    "version": 3
   },
   "file_extension": ".py",
   "mimetype": "text/x-python",
   "name": "python",
   "nbconvert_exporter": "python",
   "pygments_lexer": "ipython3",
   "version": "3.8.13"
  },
  "orig_nbformat": 4,
  "vscode": {
   "interpreter": {
    "hash": "fed7d9ff6703dc919635f1845f68b3b5dbc4445811ecdd1c4a32874e12ead1d5"
   }
  }
 },
 "nbformat": 4,
 "nbformat_minor": 2
}
